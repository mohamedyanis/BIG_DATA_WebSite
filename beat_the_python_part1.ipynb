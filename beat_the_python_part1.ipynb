{
  "nbformat": 4,
  "nbformat_minor": 0,
  "metadata": {
    "kernelspec": {
      "display_name": "Python 3",
      "language": "python",
      "name": "python3"
    },
    "language_info": {
      "codemirror_mode": {
        "name": "ipython",
        "version": 3
      },
      "file_extension": ".py",
      "mimetype": "text/x-python",
      "name": "python",
      "nbconvert_exporter": "python",
      "pygments_lexer": "ipython3",
      "version": "3.8.2"
    },
    "colab": {
      "name": "beat-the-python-part1.ipynb",
      "provenance": [],
      "collapsed_sections": [],
      "include_colab_link": true
    }
  },
  "cells": [
    {
      "cell_type": "markdown",
      "metadata": {
        "id": "view-in-github",
        "colab_type": "text"
      },
      "source": [
        "<a href=\"https://colab.research.google.com/github/mohamedyanis/BIG_DATA_WebSite/blob/master/beat_the_python_part1.ipynb\" target=\"_parent\"><img src=\"https://colab.research.google.com/assets/colab-badge.svg\" alt=\"Open In Colab\"/></a>"
      ]
    },
    {
      "cell_type": "markdown",
      "metadata": {
        "id": "l_ZGsQDN4pda",
        "colab_type": "text"
      },
      "source": [
        "# Beat The Python\n",
        "The workshop will get you started with the python programming language basics, the goal is to be able to use those basics to build some useful tasks (reading/writing files, getting data from internet, ....)\n",
        "\n",
        "### Audience\n",
        "Programmers & Computer science students interested in Python or just exploring different programming languages\n",
        "\n",
        "### Prerequisites\n",
        "Basic programming skills: you should have written a couple of programs with any programming language."
      ]
    },
    {
      "cell_type": "markdown",
      "metadata": {
        "id": "0D0jRT9gflQv",
        "colab_type": "text"
      },
      "source": [
        "<ul style=\"display:flex;justify-content: space_between;list-style-type:none;margin-left:50px;\">\n",
        "<img style=\"width=80px;height:70px;\" src=\"https://upload.wikimedia.org/wikipedia/commons/thumb/c/c3/Python-logo-notext.svg/1024px-Python-logo-notext.svg.png\"></ul>"
      ]
    },
    {
      "cell_type": "markdown",
      "metadata": {
        "id": "yLKROUCp2DZf",
        "colab_type": "text"
      },
      "source": [
        "\n",
        "\n",
        "---\n",
        "\n"
      ]
    },
    {
      "cell_type": "markdown",
      "metadata": {
        "id": "EcC2hYsOfv7O",
        "colab_type": "text"
      },
      "source": [
        "## **-1- Python Basics**"
      ]
    },
    {
      "cell_type": "code",
      "metadata": {
        "id": "g0MZdz4ef1U7",
        "colab_type": "code",
        "colab": {}
      },
      "source": [
        "x1=1 # integer number declaration \n",
        "x2=1.3 # real number declaration \n",
        "x3=True # boolean declaration\n",
        "x4=\"chaine de caracteres\" #characters string declaration\n",
        "print(x1,\"\\n\",x2,\"\\n\",x3,\"\\n\",x4)\n",
        "print(float(x1))\n",
        "print(int(x2))"
      ],
      "execution_count": 0,
      "outputs": []
    },
    {
      "cell_type": "markdown",
      "metadata": {
        "id": "bHmTsoKI2G7C",
        "colab_type": "text"
      },
      "source": [
        "\n",
        "\n",
        "---\n",
        "\n"
      ]
    },
    {
      "cell_type": "markdown",
      "metadata": {
        "id": "MJ2Pmj034pde",
        "colab_type": "text"
      },
      "source": [
        "## **-2- Variables**\n",
        "* No explicit type\n",
        "* No prior declaration\n"
      ]
    },
    {
      "cell_type": "code",
      "metadata": {
        "id": "oxLXGyS34pdf",
        "colab_type": "code",
        "colab": {}
      },
      "source": [
        "student_name # wrong, NameError will be thrown"
      ],
      "execution_count": 0,
      "outputs": []
    },
    {
      "cell_type": "code",
      "metadata": {
        "id": "BJrT3zYl4pdq",
        "colab_type": "code",
        "colab": {}
      },
      "source": [
        "student_name = 'Nouh'"
      ],
      "execution_count": 0,
      "outputs": []
    },
    {
      "cell_type": "code",
      "metadata": {
        "id": "glRLH6L3h3wI",
        "colab_type": "code",
        "colab": {}
      },
      "source": [
        "Univ = 'UMBB Boumerdes'\n",
        "print(Univ)"
      ],
      "execution_count": 0,
      "outputs": []
    },
    {
      "cell_type": "code",
      "metadata": {
        "id": "T8qjAXrWxigs",
        "colab_type": "code",
        "colab": {}
      },
      "source": [
        "###############################################################################################################################################"
      ],
      "execution_count": 0,
      "outputs": []
    },
    {
      "cell_type": "code",
      "metadata": {
        "id": "YoaFYIgih_f5",
        "colab_type": "code",
        "colab": {}
      },
      "source": [
        "First_name = 'Aymen'\n",
        "Family_name = 'Zidane'\n",
        "age = 22"
      ],
      "execution_count": 0,
      "outputs": []
    },
    {
      "cell_type": "code",
      "metadata": {
        "id": "wUP1nAmfiNJB",
        "colab_type": "code",
        "colab": {}
      },
      "source": [
        "print('your full name is ' , First_name , Family_name , ' and you have' , age , 'years old')\n",
        "print(f'your full name is  {First_name} {Family_name}  and you have {age} years old')"
      ],
      "execution_count": 0,
      "outputs": []
    },
    {
      "cell_type": "markdown",
      "metadata": {
        "id": "BmlxkWHC4pdw",
        "colab_type": "text"
      },
      "source": [
        "### **Exercice 1**\n",
        "Write a Python programme to swap (permutation) the value of two variables a, b"
      ]
    },
    {
      "cell_type": "code",
      "metadata": {
        "id": "LbLvn0LR4pdx",
        "colab_type": "code",
        "colab": {}
      },
      "source": [
        "# Your code start here\n",
        "\n",
        "# Your code ends here"
      ],
      "execution_count": 0,
      "outputs": []
    },
    {
      "cell_type": "markdown",
      "metadata": {
        "id": "EuwqqYgK14y_",
        "colab_type": "text"
      },
      "source": [
        "\n",
        "\n",
        "---\n",
        "\n"
      ]
    },
    {
      "cell_type": "markdown",
      "metadata": {
        "id": "leHCs9OS4peA",
        "colab_type": "text"
      },
      "source": [
        "## **-3- Operations**\n",
        "#### Math is what you would expect"
      ]
    },
    {
      "cell_type": "code",
      "metadata": {
        "id": "4uIQM0XY4peB",
        "colab_type": "code",
        "outputId": "6cc4bd44-8e56-4847-d914-d9a67e66528a",
        "colab": {}
      },
      "source": [
        "1 + 1, 8 - 1, 10 * 2, 35 / 5"
      ],
      "execution_count": 0,
      "outputs": [
        {
          "output_type": "execute_result",
          "data": {
            "text/plain": [
              "(2, 7, 20, 7.0)"
            ]
          },
          "metadata": {
            "tags": []
          },
          "execution_count": 15
        }
      ]
    },
    {
      "cell_type": "markdown",
      "metadata": {
        "id": "DhmPsILQ4peI",
        "colab_type": "text"
      },
      "source": [
        "#### Modulo operation\n"
      ]
    },
    {
      "cell_type": "code",
      "metadata": {
        "id": "-c6oS4_o4peJ",
        "colab_type": "code",
        "outputId": "f199eb22-509c-4aff-8b0a-5bea336efb77",
        "colab": {
          "base_uri": "https://localhost:8080/",
          "height": 34
        }
      },
      "source": [
        "7 % 3"
      ],
      "execution_count": 0,
      "outputs": [
        {
          "output_type": "execute_result",
          "data": {
            "text/plain": [
              "1"
            ]
          },
          "metadata": {
            "tags": []
          },
          "execution_count": 3
        }
      ]
    },
    {
      "cell_type": "markdown",
      "metadata": {
        "id": "z4plLdbG4peP",
        "colab_type": "text"
      },
      "source": [
        "#### Exponentiation"
      ]
    },
    {
      "cell_type": "code",
      "metadata": {
        "id": "UR6q6VlA4peP",
        "colab_type": "code",
        "outputId": "06860d90-f7e0-4ff9-869e-75876e1accc3",
        "colab": {}
      },
      "source": [
        "2**3"
      ],
      "execution_count": 0,
      "outputs": [
        {
          "output_type": "execute_result",
          "data": {
            "text/plain": [
              "8"
            ]
          },
          "metadata": {
            "tags": []
          },
          "execution_count": 17
        }
      ]
    },
    {
      "cell_type": "markdown",
      "metadata": {
        "id": "IgEUeed74peY",
        "colab_type": "text"
      },
      "source": [
        "#### negate with not"
      ]
    },
    {
      "cell_type": "code",
      "metadata": {
        "id": "G9CgyEIv4peZ",
        "colab_type": "code",
        "colab": {}
      },
      "source": [
        "not True, not False"
      ],
      "execution_count": 0,
      "outputs": []
    },
    {
      "cell_type": "markdown",
      "metadata": {
        "id": "eEAl98uy4pef",
        "colab_type": "text"
      },
      "source": [
        "#### Boolean Operators"
      ]
    },
    {
      "cell_type": "code",
      "metadata": {
        "id": "_clnfPdD4peg",
        "colab_type": "code",
        "colab": {}
      },
      "source": [
        "True and False, False or True"
      ],
      "execution_count": 0,
      "outputs": []
    },
    {
      "cell_type": "markdown",
      "metadata": {
        "id": "qx4-h07n1_d1",
        "colab_type": "text"
      },
      "source": [
        "\n",
        "\n",
        "---\n",
        "\n"
      ]
    },
    {
      "cell_type": "markdown",
      "metadata": {
        "id": "oPO_UL_z4pel",
        "colab_type": "text"
      },
      "source": [
        "# **-4- Comparaisons**\n",
        "\n",
        "#### Equality is `==`"
      ]
    },
    {
      "cell_type": "code",
      "metadata": {
        "id": "cMnj9W1G4pem",
        "colab_type": "code",
        "outputId": "b39f1f09-f394-4ba9-e66d-5fe3a7d00f34",
        "colab": {}
      },
      "source": [
        "1 == 1"
      ],
      "execution_count": 0,
      "outputs": [
        {
          "output_type": "execute_result",
          "data": {
            "text/plain": [
              "True"
            ]
          },
          "metadata": {
            "tags": []
          },
          "execution_count": 22
        }
      ]
    },
    {
      "cell_type": "markdown",
      "metadata": {
        "id": "lrFmXqd94peq",
        "colab_type": "text"
      },
      "source": [
        "#### Inequality is `!=`"
      ]
    },
    {
      "cell_type": "code",
      "metadata": {
        "id": "swqv1lqj4per",
        "colab_type": "code",
        "outputId": "647f7fbc-902a-407b-c79d-cf5f86de625c",
        "colab": {}
      },
      "source": [
        "2 != 1"
      ],
      "execution_count": 0,
      "outputs": [
        {
          "output_type": "execute_result",
          "data": {
            "text/plain": [
              "True"
            ]
          },
          "metadata": {
            "tags": []
          },
          "execution_count": 23
        }
      ]
    },
    {
      "cell_type": "markdown",
      "metadata": {
        "id": "S-mjMghp4pev",
        "colab_type": "text"
      },
      "source": [
        "#### More comparisons"
      ]
    },
    {
      "cell_type": "code",
      "metadata": {
        "id": "RaE1_5ZV4pev",
        "colab_type": "code",
        "outputId": "eeafb317-bc28-4ef2-cd14-29ba1666240a",
        "colab": {}
      },
      "source": [
        "1 < 10, 10 > 1, 2 <= 2, 2 >= 2"
      ],
      "execution_count": 0,
      "outputs": [
        {
          "output_type": "execute_result",
          "data": {
            "text/plain": [
              "(True, True, True, True)"
            ]
          },
          "metadata": {
            "tags": []
          },
          "execution_count": 25
        }
      ]
    },
    {
      "cell_type": "markdown",
      "metadata": {
        "id": "vq81pHIt4pez",
        "colab_type": "text"
      },
      "source": [
        "### **Exercice 2**\n",
        "Write a Python program that calculate the average of a student based on the value of his exam and his test grades using the formula: `(exam*2 + test) / 2`\n",
        "* Ask the user for his grades\n",
        "* Calculate the average\n",
        "* Print it back to him"
      ]
    },
    {
      "cell_type": "code",
      "metadata": {
        "id": "OEsFpYkn4pe0",
        "colab_type": "code",
        "colab": {}
      },
      "source": [
        "# Your code start here\n",
        "\n",
        "# Your code ends here"
      ],
      "execution_count": 0,
      "outputs": []
    },
    {
      "cell_type": "markdown",
      "metadata": {
        "id": "IroQlM072OjH",
        "colab_type": "text"
      },
      "source": [
        "\n",
        "\n",
        "---\n",
        "\n"
      ]
    },
    {
      "cell_type": "markdown",
      "metadata": {
        "id": "SARhdjDM2hcz",
        "colab_type": "text"
      },
      "source": [
        "\n",
        "\n",
        "---\n",
        "\n"
      ]
    },
    {
      "cell_type": "markdown",
      "metadata": {
        "id": "kZgEDnZU4pe4",
        "colab_type": "text"
      },
      "source": [
        "# **-5- String**\n",
        "#### Strings are created with `\"` or `'`"
      ]
    },
    {
      "cell_type": "code",
      "metadata": {
        "id": "TRWiuoor4pe6",
        "colab_type": "code",
        "outputId": "529ba621-ce98-4016-e0bc-a8bd84997d6a",
        "colab": {}
      },
      "source": [
        "\"This is a string.\", 'This is also a string.'"
      ],
      "execution_count": 0,
      "outputs": [
        {
          "output_type": "execute_result",
          "data": {
            "text/plain": [
              "('This is a string.', 'This is also a string.')"
            ]
          },
          "metadata": {
            "tags": []
          },
          "execution_count": 26
        }
      ]
    },
    {
      "cell_type": "markdown",
      "metadata": {
        "id": "cGSN1U4M4pe9",
        "colab_type": "text"
      },
      "source": [
        "#### Concatenation: "
      ]
    },
    {
      "cell_type": "code",
      "metadata": {
        "id": "53G_EDGy4pe-",
        "colab_type": "code",
        "outputId": "a37cea6f-5040-4e3d-c8ba-74cf13d763ea",
        "colab": {}
      },
      "source": [
        "\"Hello \" + \"world!\""
      ],
      "execution_count": 0,
      "outputs": [
        {
          "output_type": "execute_result",
          "data": {
            "text/plain": [
              "'Hello world!'"
            ]
          },
          "metadata": {
            "tags": []
          },
          "execution_count": 28
        }
      ]
    },
    {
      "cell_type": "markdown",
      "metadata": {
        "id": "70ctUtw_4pfC",
        "colab_type": "text"
      },
      "source": [
        "#### Length: \n"
      ]
    },
    {
      "cell_type": "code",
      "metadata": {
        "id": "OakiHR-I4pfD",
        "colab_type": "code",
        "colab": {}
      },
      "source": [
        "len(\"This is a string\")"
      ],
      "execution_count": 0,
      "outputs": []
    },
    {
      "cell_type": "markdown",
      "metadata": {
        "id": "C2w5REwL4pfG",
        "colab_type": "text"
      },
      "source": [
        "#### F-strings: Formatted string literals (python 3.7+)"
      ]
    },
    {
      "cell_type": "code",
      "metadata": {
        "id": "ui9PSMW94pfH",
        "colab_type": "code",
        "colab": {}
      },
      "source": [
        "name = \"Fares\"\n",
        "f\"He said her name is {name}.\""
      ],
      "execution_count": 0,
      "outputs": []
    },
    {
      "cell_type": "markdown",
      "metadata": {
        "id": "_lpRlJ0l4pfK",
        "colab_type": "text"
      },
      "source": [
        "##### Even statements are accepted"
      ]
    },
    {
      "cell_type": "code",
      "metadata": {
        "id": "cNt9A8NE4pfL",
        "colab_type": "code",
        "colab": {}
      },
      "source": [
        "f\"{name} is {len(name)} characters long.\""
      ],
      "execution_count": 0,
      "outputs": []
    },
    {
      "cell_type": "markdown",
      "metadata": {
        "id": "8dfXtkjM4pfP",
        "colab_type": "text"
      },
      "source": [
        "#### Split a string\n"
      ]
    },
    {
      "cell_type": "code",
      "metadata": {
        "id": "Fx-Er4ro4pfP",
        "colab_type": "code",
        "colab": {}
      },
      "source": [
        "s = 'Hi Fares'\n",
        "s.split(' ')    #Separation of words"
      ],
      "execution_count": 0,
      "outputs": []
    },
    {
      "cell_type": "markdown",
      "metadata": {
        "id": "3cSepReqlVK6",
        "colab_type": "text"
      },
      "source": [
        "#### Edit a string"
      ]
    },
    {
      "cell_type": "code",
      "metadata": {
        "id": "t5liknS4lo6K",
        "colab_type": "code",
        "colab": {}
      },
      "source": [
        "s = 'mohamed'\n",
        "s.capitalize()  #first letter in capitale letter "
      ],
      "execution_count": 0,
      "outputs": []
    },
    {
      "cell_type": "code",
      "metadata": {
        "id": "ozipX3ammbFP",
        "colab_type": "code",
        "colab": {}
      },
      "source": [
        "s = 'MOHAMED'\n",
        "s.lower()       #all the string in small letter"
      ],
      "execution_count": 0,
      "outputs": []
    },
    {
      "cell_type": "code",
      "metadata": {
        "id": "LVr00CQwoYkG",
        "colab_type": "code",
        "colab": {}
      },
      "source": [
        "s = 'mohamed'\n",
        "s.upper()       #all the string in capital letter"
      ],
      "execution_count": 0,
      "outputs": []
    },
    {
      "cell_type": "markdown",
      "metadata": {
        "id": "W2ojLC1rsX8I",
        "colab_type": "text"
      },
      "source": [
        "####Replace a string"
      ]
    },
    {
      "cell_type": "code",
      "metadata": {
        "id": "qJzkZQLDse_Y",
        "colab_type": "code",
        "colab": {}
      },
      "source": [
        "string = 'I have a banana and an orange'\n",
        "string.replace('banana', 'apple')     #replace the 'banana' with 'apple'"
      ],
      "execution_count": 0,
      "outputs": []
    },
    {
      "cell_type": "markdown",
      "metadata": {
        "id": "Gq7CosZ12kpb",
        "colab_type": "text"
      },
      "source": [
        "\n",
        "\n",
        "---\n",
        "\n"
      ]
    },
    {
      "cell_type": "markdown",
      "metadata": {
        "id": "OpExHFLiwo-z",
        "colab_type": "text"
      },
      "source": [
        "# **-6- Input / Output** (I/O)"
      ]
    },
    {
      "cell_type": "markdown",
      "metadata": {
        "id": "gKcZqC_fwvi6",
        "colab_type": "text"
      },
      "source": [
        "#### Input"
      ]
    },
    {
      "cell_type": "code",
      "metadata": {
        "id": "qfdVf2LOw0mB",
        "colab_type": "code",
        "colab": {}
      },
      "source": [
        "age = input('how old are you? ') # Warning: It always returns a string"
      ],
      "execution_count": 0,
      "outputs": []
    },
    {
      "cell_type": "markdown",
      "metadata": {
        "id": "jzAyQ45Lw4-j",
        "colab_type": "text"
      },
      "source": [
        "#### Output"
      ]
    },
    {
      "cell_type": "code",
      "metadata": {
        "id": "XQNNyX4DxAFi",
        "colab_type": "code",
        "colab": {}
      },
      "source": [
        "print('Salam alaykom ya lbatata')   #    \"tfakart sellal XD\"\n",
        "print('3andek', age, '3am, Rak jayeb rohek labes')"
      ],
      "execution_count": 0,
      "outputs": []
    },
    {
      "cell_type": "markdown",
      "metadata": {
        "id": "WT3tizwt2nxl",
        "colab_type": "text"
      },
      "source": [
        "\n",
        "\n",
        "---\n",
        "\n"
      ]
    },
    {
      "cell_type": "markdown",
      "metadata": {
        "id": "OkNU789H4pfZ",
        "colab_type": "text"
      },
      "source": [
        "# **-7- Conditional statemants**"
      ]
    },
    {
      "cell_type": "code",
      "metadata": {
        "id": "tN5IknE64pfZ",
        "colab_type": "code",
        "colab": {}
      },
      "source": [
        "x = 12\n",
        "if x > 10:\n",
        "    print(\"x is totally bigger than 10.\")\n",
        "else:\n",
        "    print(\"x is smaller or equal to 10.\")\n"
      ],
      "execution_count": 0,
      "outputs": []
    },
    {
      "cell_type": "code",
      "metadata": {
        "id": "KqRgleHW4pfd",
        "colab_type": "code",
        "colab": {}
      },
      "source": [
        "if x > 10:\n",
        "    print(\"x is totally bigger than 10.\")\n",
        "elif x < 10:\n",
        "    print(\"x is smaller than 10.\")\n",
        "else:\n",
        "    print(\"x is indeed 10.\")"
      ],
      "execution_count": 0,
      "outputs": []
    },
    {
      "cell_type": "markdown",
      "metadata": {
        "id": "NFv4jq0D4pfl",
        "colab_type": "text"
      },
      "source": [
        "### **Exercice 3**\n",
        "Write a Python program that calculate the average of a student and print if he succeeded or not:\n",
        "* Read the value of his exam and his test\n",
        "* Calculate the average: `(exam*2 + test) / 2`\n",
        "* Print if the student succeed or not\n"
      ]
    },
    {
      "cell_type": "code",
      "metadata": {
        "id": "DgS48F654pfn",
        "colab_type": "code",
        "colab": {}
      },
      "source": [
        "# Your code start here\n",
        "\n",
        "# Your code ends here"
      ],
      "execution_count": 0,
      "outputs": []
    },
    {
      "cell_type": "markdown",
      "metadata": {
        "id": "-t3-UBdf2qxA",
        "colab_type": "text"
      },
      "source": [
        "\n",
        "\n",
        "---\n",
        "\n"
      ]
    },
    {
      "cell_type": "markdown",
      "metadata": {
        "id": "cpHIfhKn4pfx",
        "colab_type": "text"
      },
      "source": [
        "# **-8- Lists**"
      ]
    },
    {
      "cell_type": "code",
      "metadata": {
        "id": "gP7fdidG4pfy",
        "colab_type": "code",
        "colab": {}
      },
      "source": [
        "# List definition\n",
        "li = [1, 2, 3, 4, 5, 6]"
      ],
      "execution_count": 0,
      "outputs": []
    },
    {
      "cell_type": "code",
      "metadata": {
        "id": "LHkgmknI4pf4",
        "colab_type": "code",
        "colab": {}
      },
      "source": [
        "# Add to the end \n",
        "li.append(1)\n",
        "li"
      ],
      "execution_count": 0,
      "outputs": []
    },
    {
      "cell_type": "code",
      "metadata": {
        "id": "aCrDWUAK4pf_",
        "colab_type": "code",
        "colab": {}
      },
      "source": [
        "Separation of words"
      ],
      "execution_count": 0,
      "outputs": []
    },
    {
      "cell_type": "code",
      "metadata": {
        "id": "Xys0V6644pgD",
        "colab_type": "code",
        "colab": {}
      },
      "source": [
        "# Access\n",
        "li[0] "
      ],
      "execution_count": 0,
      "outputs": []
    },
    {
      "cell_type": "code",
      "metadata": {
        "id": "W6ld-RaO4pgG",
        "colab_type": "code",
        "colab": {}
      },
      "source": [
        "li[6]  # Raises an IndexError"
      ],
      "execution_count": 0,
      "outputs": []
    },
    {
      "cell_type": "code",
      "metadata": {
        "id": "v5-Y7NZ54pgM",
        "colab_type": "code",
        "colab": {}
      },
      "source": [
        "li[-1]  # Access the end"
      ],
      "execution_count": 0,
      "outputs": []
    },
    {
      "cell_type": "code",
      "metadata": {
        "id": "84XInzhX4pgR",
        "colab_type": "code",
        "colab": {}
      },
      "source": [
        "# Slicing\n",
        "li[1:3]"
      ],
      "execution_count": 0,
      "outputs": []
    },
    {
      "cell_type": "code",
      "metadata": {
        "id": "cjIpdcI04pgW",
        "colab_type": "code",
        "colab": {}
      },
      "source": [
        "# Remove\n",
        "del li[2]"
      ],
      "execution_count": 0,
      "outputs": []
    },
    {
      "cell_type": "code",
      "metadata": {
        "id": "i3ysJdHIOS6a",
        "colab_type": "code",
        "colab": {}
      },
      "source": [
        "# Remove the last element\n",
        "li.pop()\n",
        "li"
      ],
      "execution_count": 0,
      "outputs": []
    },
    {
      "cell_type": "code",
      "metadata": {
        "id": "F5UagDlw4pga",
        "colab_type": "code",
        "colab": {}
      },
      "source": [
        "# Remove index of element\n",
        "li.remove(4)   \n",
        "li"
      ],
      "execution_count": 0,
      "outputs": []
    },
    {
      "cell_type": "code",
      "metadata": {
        "id": "L3eph7104pge",
        "colab_type": "code",
        "colab": {}
      },
      "source": [
        "# Get index of element\n",
        "li.index(2)"
      ],
      "execution_count": 0,
      "outputs": []
    },
    {
      "cell_type": "code",
      "metadata": {
        "id": "rckar-nl4pgk",
        "colab_type": "code",
        "colab": {}
      },
      "source": [
        "li.index(4)  # Raises a ValueError"
      ],
      "execution_count": 0,
      "outputs": []
    },
    {
      "cell_type": "code",
      "metadata": {
        "id": "svLSUtxJ4pgo",
        "colab_type": "code",
        "colab": {}
      },
      "source": [
        "# Insert at a specific index\n",
        "li.insert(1, 2)\n",
        "li"
      ],
      "execution_count": 0,
      "outputs": []
    },
    {
      "cell_type": "code",
      "metadata": {
        "id": "PUOahzeL4pgv",
        "colab_type": "code",
        "colab": {}
      },
      "source": [
        "# Check for existence\n",
        "1 in li"
      ],
      "execution_count": 0,
      "outputs": []
    },
    {
      "cell_type": "code",
      "metadata": {
        "id": "Z6RrRmQj0-Zf",
        "colab_type": "code",
        "colab": {}
      },
      "source": [
        "# Find the max value \n",
        "li = [1,25,2,82,42,8]\n",
        "max_li = max(li)\n",
        "print(max_li)"
      ],
      "execution_count": 0,
      "outputs": []
    },
    {
      "cell_type": "code",
      "metadata": {
        "id": "4ki-XjeG1Tyc",
        "colab_type": "code",
        "colab": {}
      },
      "source": [
        "# Find the min value \n",
        "li = [1,25,2,82,42,8]\n",
        "min_li = min(li)\n",
        "print(min_li)"
      ],
      "execution_count": 0,
      "outputs": []
    },
    {
      "cell_type": "markdown",
      "metadata": {
        "id": "-A_1u0r72tgv",
        "colab_type": "text"
      },
      "source": [
        "\n",
        "\n",
        "---\n",
        "\n"
      ]
    },
    {
      "cell_type": "markdown",
      "metadata": {
        "id": "l0DQ__2Ejqqj",
        "colab_type": "text"
      },
      "source": [
        "# **-9- Dictionnaries**"
      ]
    },
    {
      "cell_type": "code",
      "metadata": {
        "id": "cLtZkzcXkK4x",
        "colab_type": "code",
        "colab": {}
      },
      "source": [
        "age_dic={\"khalil\":27,\"fatah\":28,\"sofian\":22}\n",
        "print(age_dic)\n",
        "print(\"keys of a:\",age_dic.keys())\n",
        "print(\"values of a:\",age_dic.values())"
      ],
      "execution_count": 0,
      "outputs": []
    },
    {
      "cell_type": "markdown",
      "metadata": {
        "id": "6TJu_BF0ksF9",
        "colab_type": "text"
      },
      "source": [
        "## Accessing Values in Dictionary"
      ]
    },
    {
      "cell_type": "code",
      "metadata": {
        "id": "0Iu0D7gbk2tk",
        "colab_type": "code",
        "colab": {}
      },
      "source": [
        "dic = {'Name': 'youcef', 'Age': 18, 'Class': 'First'}\n",
        "print ('his name is: ' ,dic['Name'])  #get the name\n",
        "print ('he have: ' ,dic['Age'])   #get the age"
      ],
      "execution_count": 0,
      "outputs": []
    },
    {
      "cell_type": "markdown",
      "metadata": {
        "id": "pv6d1u0PloN4",
        "colab_type": "text"
      },
      "source": [
        "## Updating Dictionary"
      ]
    },
    {
      "cell_type": "code",
      "metadata": {
        "id": "dSWfkDEWlwME",
        "colab_type": "code",
        "colab": {}
      },
      "source": [
        "dic = {'Name': 'yousri', 'Age': 19, 'Class': 'First'}\n",
        "dic['Age'] = 8; # update existing entry\n",
        "dic['School'] = \"DPS School\" # Add new entry\n",
        "\n",
        "print (\"Your age: \", dic['Age'])\n",
        "print (\"Your shcool: \", dic['School'])"
      ],
      "execution_count": 0,
      "outputs": []
    },
    {
      "cell_type": "markdown",
      "metadata": {
        "id": "fif08v9jmH8A",
        "colab_type": "text"
      },
      "source": [
        "## Mix two Dictionaries"
      ]
    },
    {
      "cell_type": "code",
      "metadata": {
        "id": "Gu5iluobmOC3",
        "colab_type": "code",
        "colab": {}
      },
      "source": [
        "Student_info = {'Name': 'yousri', \n",
        "            'Age': 19, \n",
        "            'Class': 'First'}\n",
        "\n",
        "\n",
        "Student_skill = {'prongraming': '50%', \n",
        "                 'hardware': '33%', \n",
        "                 'software': '98%'}\n",
        "\n",
        "d={**dic, **age_dic}\n",
        "d"
      ],
      "execution_count": 0,
      "outputs": []
    },
    {
      "cell_type": "markdown",
      "metadata": {
        "id": "AmsEHZXO4pg1",
        "colab_type": "text"
      },
      "source": [
        "# **-9- Loops**"
      ]
    },
    {
      "cell_type": "code",
      "metadata": {
        "id": "dnXzo6V7r0bm",
        "colab_type": "code",
        "colab": {}
      },
      "source": [
        "for num in li:\n",
        "  print(num)"
      ],
      "execution_count": 0,
      "outputs": []
    },
    {
      "cell_type": "code",
      "metadata": {
        "id": "BJIpyf2q4pg2",
        "colab_type": "code",
        "colab": {}
      },
      "source": [
        "for animal in [\"dog\", \"cat\", \"mouse\"]:\n",
        "    print(f\"{animal} is a mammal\")"
      ],
      "execution_count": 0,
      "outputs": []
    },
    {
      "cell_type": "code",
      "metadata": {
        "id": "5A6ld0yG4pg8",
        "colab_type": "code",
        "colab": {}
      },
      "source": [
        "# range(number) returns an iterable of numbers from zero to the given number\n",
        "for i in range(4):\n",
        "    print(i)"
      ],
      "execution_count": 0,
      "outputs": []
    },
    {
      "cell_type": "code",
      "metadata": {
        "id": "ys1vBrAe4phD",
        "colab_type": "code",
        "colab": {}
      },
      "source": [
        "# range(lower, upper) returns an iterable of numbers  from lower to upper\n",
        "for i in range(4, 8):\n",
        "    print(i)"
      ],
      "execution_count": 0,
      "outputs": []
    },
    {
      "cell_type": "code",
      "metadata": {
        "id": "5klNwKIN4phI",
        "colab_type": "code",
        "colab": {}
      },
      "source": [
        "# range(lower, upper, step) returns an iterable of numbers from the lower number to the upper number, while incrementing by step. If step is not indicated, the default value is 1.\n",
        "for i in range(4, 8, 2):\n",
        "    print(i)"
      ],
      "execution_count": 0,
      "outputs": []
    },
    {
      "cell_type": "code",
      "metadata": {
        "id": "juol3HJO4phN",
        "colab_type": "code",
        "colab": {}
      },
      "source": [
        "# To loop over a list, and retrieve both the index and the value of each item in the list\n",
        "animals = [\"dog\", \"cat\", \"mouse\"]\n",
        "for i, value in enumerate(animals):\n",
        "    print(i, value)"
      ],
      "execution_count": 0,
      "outputs": []
    },
    {
      "cell_type": "markdown",
      "metadata": {
        "id": "Ij6P2roIy_q1",
        "colab_type": "text"
      },
      "source": [
        "### **Exercice 5**\n",
        "Write a program that checks if a given value belongs to a given list 5 times\n",
        "* Read the value \n",
        "* Check the value\n",
        "* Print if the value in the list or not\n",
        "\n",
        "The list:\n",
        "```python\n",
        "input_list = [1,2,8,15,5,4,63,45,3,874,36,85,52,74,52,14,59,57]\n",
        "```"
      ]
    },
    {
      "cell_type": "code",
      "metadata": {
        "id": "wnJ8uWsV0ksi",
        "colab_type": "code",
        "colab": {}
      },
      "source": [
        "# Your code start here\n",
        "\n",
        "# Your code ends here"
      ],
      "execution_count": 0,
      "outputs": []
    },
    {
      "cell_type": "markdown",
      "metadata": {
        "id": "3ZWLAQ-YymMC",
        "colab_type": "text"
      },
      "source": [
        "# **Try / Except**"
      ]
    },
    {
      "cell_type": "code",
      "metadata": {
        "id": "m2ME1yfYysaw",
        "colab_type": "code",
        "colab": {}
      },
      "source": [
        "num = int(input('Enter a number: '))\n",
        "print(num)"
      ],
      "execution_count": 0,
      "outputs": []
    },
    {
      "cell_type": "markdown",
      "metadata": {
        "id": "hl5amNqM4phQ",
        "colab_type": "text"
      },
      "source": [
        "### **Exercice 5**\n",
        "1. Write a program to read 10 numbers from keyboard and find their sum and average\n",
        "2. Create a program that asks the user for a number and then prints out a list of all the divisors of that number."
      ]
    },
    {
      "cell_type": "code",
      "metadata": {
        "id": "zCurklDn4phQ",
        "colab_type": "code",
        "colab": {}
      },
      "source": [
        "# Your code start here\n",
        "\n",
        "# Your code ends here"
      ],
      "execution_count": 0,
      "outputs": []
    },
    {
      "cell_type": "code",
      "metadata": {
        "id": "m0YpsJe44phT",
        "colab_type": "code",
        "colab": {}
      },
      "source": [
        "# Your code start here\n",
        "\n",
        "# Your code ends here"
      ],
      "execution_count": 0,
      "outputs": []
    },
    {
      "cell_type": "markdown",
      "metadata": {
        "id": "YFGy5BzB2wEb",
        "colab_type": "text"
      },
      "source": [
        "\n",
        "\n",
        "---\n",
        "\n"
      ]
    },
    {
      "cell_type": "markdown",
      "metadata": {
        "id": "vUBkocsX2how",
        "colab_type": "text"
      },
      "source": [
        "<img src=\"https://static.arageek.com/wp-content/uploads/6316833.jpg\" style=\"padding-right:150px;max-height:300px\">"
      ]
    }
  ]
}